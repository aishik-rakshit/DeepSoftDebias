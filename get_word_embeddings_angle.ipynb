{
 "cells": [
  {
   "cell_type": "code",
   "execution_count": 2,
   "metadata": {},
   "outputs": [],
   "source": [
    "import os\n",
    "import json\n",
    "import numpy as np \n",
    "import pandas as pd\n",
    "\n",
    "from openai import OpenAI\n",
    "from sentence_transformers import SentenceTransformer\n",
    "from transformers import AutoModel"
   ]
  },
  {
   "cell_type": "code",
   "execution_count": 3,
   "metadata": {},
   "outputs": [],
   "source": [
    "class CFG:\n",
    "    model_name = \"Salesforce/SFR-Embedding-Mistral\"\n",
    "    male_words = \"data/male_word_file.txt\"\n",
    "    female_words = \"data/female_word_file.txt\"\n",
    "    professions = \"data/professions.json\"\n",
    "    words = \"data/reddit.US.txt.tok.clean.cleanedforw2v_0.w2v\""
   ]
  },
  {
   "cell_type": "code",
   "execution_count": 4,
   "metadata": {},
   "outputs": [],
   "source": [
    "with open(CFG.professions) as file:\n",
    "    data = json.load(file)\n",
    "\n",
    "professions = [data_[0][0] for data_ in data]"
   ]
  },
  {
   "cell_type": "code",
   "execution_count": 5,
   "metadata": {},
   "outputs": [],
   "source": [
    "def load_words(w2v_file):\n",
    "    words = []\n",
    "    with open(w2v_file, 'r') as f:\n",
    "        for line in f:\n",
    "            vect = line.strip().rsplit()\n",
    "            word = vect[0]\n",
    "            words.append(word)\n",
    "        \n",
    "    return words"
   ]
  },
  {
   "cell_type": "code",
   "execution_count": 6,
   "metadata": {},
   "outputs": [],
   "source": [
    "words = load_words(CFG.words)"
   ]
  },
  {
   "cell_type": "code",
   "execution_count": 7,
   "metadata": {},
   "outputs": [],
   "source": [
    "with open(CFG.male_words, 'r') as file:\n",
    "    # Read the file\n",
    "    data = file.read()\n",
    "\n",
    "# Split the file into words\n",
    "male_words = data.split()"
   ]
  },
  {
   "cell_type": "code",
   "execution_count": 8,
   "metadata": {},
   "outputs": [],
   "source": [
    "with open(CFG.female_words, 'r') as file:\n",
    "    # Read the file\n",
    "    data = file.read()\n",
    "\n",
    "# Split the file into words\n",
    "female_words = data.split()"
   ]
  },
  {
   "cell_type": "code",
   "execution_count": 9,
   "metadata": {},
   "outputs": [
    {
     "name": "stderr",
     "output_type": "stream",
     "text": [
      "config.json: 100%|██████████| 663/663 [00:00<00:00, 1.22MB/s]\n",
      "model.safetensors.index.json: 100%|██████████| 22.2k/22.2k [00:00<00:00, 35.1MB/s]\n",
      "model-00001-of-00003.safetensors: 100%|██████████| 4.94G/4.94G [04:55<00:00, 16.7MB/s]\n",
      "model-00002-of-00003.safetensors: 100%|██████████| 5.00G/5.00G [04:49<00:00, 17.3MB/s]\n",
      "model-00003-of-00003.safetensors: 100%|██████████| 4.28G/4.28G [04:14<00:00, 16.8MB/s]\n",
      "Downloading shards: 100%|██████████| 3/3 [14:01<00:00, 280.61s/it]\n",
      "Loading checkpoint shards:   0%|          | 0/3 [00:00<?, ?it/s]"
     ]
    },
    {
     "ename": "",
     "evalue": "",
     "output_type": "error",
     "traceback": [
      "\u001b[1;31mThe Kernel crashed while executing code in the the current cell or a previous cell. Please review the code in the cell(s) to identify a possible cause of the failure. Click <a href='https://aka.ms/vscodeJupyterKernelCrash'>here</a> for more info. View Jupyter <a href='command:jupyter.viewOutput'>log</a> for further details."
     ]
    }
   ],
   "source": [
    "model = AutoModel.from_pretrained(CFG.model_name)"
   ]
  },
  {
   "cell_type": "code",
   "execution_count": null,
   "metadata": {},
   "outputs": [],
   "source": [
    "# male_word_embeddings = model.encode(male_words, to_numpy=True)\n",
    "# female_word_embeddings = model.encode(female_words, to_numpy=True)"
   ]
  },
  {
   "cell_type": "code",
   "execution_count": null,
   "metadata": {},
   "outputs": [],
   "source": [
    "word_embeddings = model.encode(words)"
   ]
  },
  {
   "cell_type": "code",
   "execution_count": null,
   "metadata": {},
   "outputs": [],
   "source": [
    "# professions_embeddings = model.encode(professions, to_numpy=True)"
   ]
  },
  {
   "cell_type": "code",
   "execution_count": null,
   "metadata": {},
   "outputs": [],
   "source": [
    "np.save(f'word_embeddings/{CFG.model_name.replace(\"/\", \"-\")}-embeddings.npy', word_embeddings)\n",
    "# np.save(f'word_embeddings/{CFG.model_name.replace(\"/\", \"-\")}-male-embeddings.npy', male_word_embeddings)\n",
    "# np.save(f'word_embeddings/{CFG.model_name.replace(\"/\", \"-\")}-female-embeddings.npy', female_word_embeddings)\n",
    "# np.save(f'word_embeddings/{CFG.model_name.replace(\"/\", \"-\")}-professions-embeddings.npy', professions_embeddings)"
   ]
  },
  {
   "cell_type": "code",
   "execution_count": null,
   "metadata": {},
   "outputs": [],
   "source": []
  }
 ],
 "metadata": {
  "kernelspec": {
   "display_name": "R106",
   "language": "python",
   "name": "python3"
  },
  "language_info": {
   "codemirror_mode": {
    "name": "ipython",
    "version": 3
   },
   "file_extension": ".py",
   "mimetype": "text/x-python",
   "name": "python",
   "nbconvert_exporter": "python",
   "pygments_lexer": "ipython3",
   "version": "3.10.0"
  }
 },
 "nbformat": 4,
 "nbformat_minor": 2
}
