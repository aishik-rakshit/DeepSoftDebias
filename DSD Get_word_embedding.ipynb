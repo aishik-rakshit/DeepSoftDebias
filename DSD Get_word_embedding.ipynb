{
 "cells": [
  {
   "cell_type": "code",
   "execution_count": null,
   "metadata": {
    "colab": {
     "base_uri": "https://localhost:8080/"
    },
    "executionInfo": {
     "elapsed": 32076,
     "status": "ok",
     "timestamp": 1724405180970,
     "user": {
      "displayName": "Aishik Rakshit",
      "userId": "15122983906308089605"
     },
     "user_tz": -330
    },
    "id": "f6oZAx4xkcEH",
    "outputId": "c1a39298-9ff7-4af3-93ec-99bceb2b357b"
   },
   "outputs": [],
   "source": [
    "from google.colab import drive\n",
    "drive.mount('/content/drive')"
   ]
  },
  {
   "cell_type": "code",
   "execution_count": null,
   "metadata": {
    "colab": {
     "base_uri": "https://localhost:8080/"
    },
    "executionInfo": {
     "elapsed": 56456,
     "status": "ok",
     "timestamp": 1724405237422,
     "user": {
      "displayName": "Aishik Rakshit",
      "userId": "15122983906308089605"
     },
     "user_tz": -330
    },
    "id": "TGr4eXmQlD49",
    "outputId": "d0fba9a6-ff7c-4666-b54a-2d68b047ba9c"
   },
   "outputs": [],
   "source": [
    "!pip -q install accelerate\n",
    "!pip -q install bitsandbytes\n",
    "!pip -q install huggingface_hub"
   ]
  },
  {
   "cell_type": "code",
   "execution_count": null,
   "metadata": {
    "colab": {
     "base_uri": "https://localhost:8080/"
    },
    "executionInfo": {
     "elapsed": 1434294,
     "status": "ok",
     "timestamp": 1724406671705,
     "user": {
      "displayName": "Aishik Rakshit",
      "userId": "15122983906308089605"
     },
     "user_tz": -330
    },
    "id": "eqmWRUEsmR7k",
    "outputId": "116c16cd-1799-4363-8e88-25e803a4c59f"
   },
   "outputs": [],
   "source": [
    "!huggingface-cli login"
   ]
  },
  {
   "cell_type": "code",
   "execution_count": null,
   "metadata": {
    "colab": {
     "base_uri": "https://localhost:8080/"
    },
    "executionInfo": {
     "elapsed": 579,
     "status": "ok",
     "timestamp": 1724406678039,
     "user": {
      "displayName": "Aishik Rakshit",
      "userId": "15122983906308089605"
     },
     "user_tz": -330
    },
    "id": "Vm8rQ3bek0tx",
    "outputId": "4066fc94-30e1-44c2-a544-65cfba6d1f9f"
   },
   "outputs": [],
   "source": [
    "%cd /content/drive/MyDrive/DSD"
   ]
  },
  {
   "cell_type": "code",
   "execution_count": null,
   "metadata": {
    "executionInfo": {
     "elapsed": 4028,
     "status": "ok",
     "timestamp": 1724406682065,
     "user": {
      "displayName": "Aishik Rakshit",
      "userId": "15122983906308089605"
     },
     "user_tz": -330
    },
    "id": "leY5Q4ATkTOD"
   },
   "outputs": [],
   "source": [
    "import gc\n",
    "import numpy as np\n",
    "from pickle import dump\n",
    "from tqdm.notebook import tqdm\n",
    "from sklearn.decomposition import FastICA\n",
    "\n",
    "import torch\n",
    "from torch import nn\n",
    "from torch.utils.data import DataLoader, Dataset\n",
    "from transformers import AutoTokenizer, AutoModel"
   ]
  },
  {
   "cell_type": "code",
   "execution_count": null,
   "metadata": {
    "executionInfo": {
     "elapsed": 852,
     "status": "ok",
     "timestamp": 1724407216575,
     "user": {
      "displayName": "Aishik Rakshit",
      "userId": "15122983906308089605"
     },
     "user_tz": -330
    },
    "id": "6dfpcklFkTOF"
   },
   "outputs": [],
   "source": [
    "class CFG:\n",
    "    model_name = \"solidrust/dolphin-2.9.1-llama-3-8b-AWQ\"\n",
    "    max_len = 4\n",
    "    batch_size = 32\n",
    "    num_workers = 12\n",
    "    device = torch.device(\"cuda\" if torch.cuda.is_available() else \"cpu\")\n"
   ]
  },
  {
   "cell_type": "code",
   "execution_count": null,
   "metadata": {
    "executionInfo": {
     "elapsed": 802,
     "status": "ok",
     "timestamp": 1724406682865,
     "user": {
      "displayName": "Aishik Rakshit",
      "userId": "15122983906308089605"
     },
     "user_tz": -330
    },
    "id": "NxxN9RHnkTOF"
   },
   "outputs": [],
   "source": [
    "loaded_words = []\n",
    "with open('reddit_l2_w2v_words.txt', 'r') as f:\n",
    "    for line in f:\n",
    "        word = line.strip()\n",
    "        loaded_words.append(word)"
   ]
  },
  {
   "cell_type": "code",
   "execution_count": null,
   "metadata": {
    "executionInfo": {
     "elapsed": 2,
     "status": "ok",
     "timestamp": 1724406682865,
     "user": {
      "displayName": "Aishik Rakshit",
      "userId": "15122983906308089605"
     },
     "user_tz": -330
    },
    "id": "CGdrLdhtkTOF"
   },
   "outputs": [],
   "source": [
    "class WordsDataset(Dataset):\n",
    "    def __init__(self, words, tokenizer):\n",
    "        self.words = words\n",
    "        self.tokenizer = tokenizer\n",
    "\n",
    "    def __len__(self):\n",
    "        return len(self.words)\n",
    "\n",
    "    def __getitem__(self, idx):\n",
    "        word = self.words[idx]\n",
    "        inputs = self.tokenizer(word, padding='max_length', max_length = CFG.max_len, truncation = True)\n",
    "        return {\"input_ids\": torch.tensor(inputs.input_ids, dtype=torch.long), \"attention_mask\": torch.tensor(inputs.attention_mask, dtype=torch.long)}"
   ]
  },
  {
   "cell_type": "code",
   "execution_count": null,
   "metadata": {
    "colab": {
     "base_uri": "https://localhost:8080/",
     "height": 405,
     "referenced_widgets": [
      "a38cb94b16814e45a397bffbbb8e496d",
      "5aba7646ca1b4dfe8366d4c840df4401",
      "7eee89c809a64bbb9b2dda2e158fc0b8",
      "5b0f46d794064b71b23bcebfdeb7d7db",
      "f8e2905a24ed4561a2367c779c76878e",
      "5f7b0842d1b24ebb9c65596bae577e54",
      "3061bbe7443c4e96bcc26f6b80cc279c",
      "f3cb6ed2c6f548e58aa6fccc09897d3a",
      "ff0014bdae0a4593a1b3d8ba8c684ca0",
      "1c89a1e7e2d04002a075f28fae6540ba",
      "b7ab87f2f2a24ce4a1f14d83a34ffb4f"
     ]
    },
    "executionInfo": {
     "elapsed": 1015,
     "status": "error",
     "timestamp": 1724407218293,
     "user": {
      "displayName": "Aishik Rakshit",
      "userId": "15122983906308089605"
     },
     "user_tz": -330
    },
    "id": "ZramnsJ8kTOG",
    "outputId": "6528f087-61b6-42a8-c80f-a295c1dbcbe8"
   },
   "outputs": [],
   "source": [
    "def mean_pooling(model_output, attention_mask):\n",
    "    token_embeddings = model_output[0]\n",
    "    input_mask_expanded = attention_mask.unsqueeze(-1).expand(token_embeddings.size()).float()\n",
    "    return torch.sum(token_embeddings * input_mask_expanded, 1) / torch.clamp(input_mask_expanded.sum(1), min=1e-9)\n",
    "\n",
    "class Model(torch.nn.Module):\n",
    "    def __init__(self, model_name):\n",
    "        super(Model, self).__init__()\n",
    "        self.encoder = AutoModel.from_pretrained(model_name, load_in_8bit = True)\n",
    "\n",
    "    def forward(self, input_ids, attention_mask):\n",
    "        model_output = self.encoder(input_ids=input_ids, attention_mask=attention_mask)\n",
    "        sentence_embeddings = mean_pooling(model_output, attention_mask)\n",
    "        return sentence_embeddings\n",
    "\n",
    "lm_model = Model(CFG.model_name).to(CFG.device)\n",
    "\n",
    "tokenizer = AutoTokenizer.from_pretrained(CFG.model_name)\n",
    "if tokenizer.pad_token is None:\n",
    "    tokenizer.pad_token = tokenizer.eos_token"
   ]
  },
  {
   "cell_type": "code",
   "execution_count": null,
   "metadata": {
    "executionInfo": {
     "elapsed": 9,
     "status": "aborted",
     "timestamp": 1724406685891,
     "user": {
      "displayName": "Aishik Rakshit",
      "userId": "15122983906308089605"
     },
     "user_tz": -330
    },
    "id": "gRDH5OUDkTOH"
   },
   "outputs": [],
   "source": [
    "def get_word_embeddings(words, model):\n",
    "    model.eval()\n",
    "    words_dataset = WordsDataset(words, tokenizer)\n",
    "    words_dataloader = DataLoader(words_dataset, batch_size=CFG.batch_size, shuffle=False, num_workers = CFG.num_workers)\n",
    "    embeddings = []\n",
    "    for batch in tqdm(words_dataloader, total = len(words_dataloader)):\n",
    "        input_ids = torch.squeeze(batch['input_ids'].to(CFG.device), axis = 1)\n",
    "        attention_mask = torch.squeeze(batch['attention_mask'].to(CFG.device), axis = 1)\n",
    "        batch_embeddings = model(input_ids, attention_mask).detach().cpu().numpy()\n",
    "        embeddings.append(batch_embeddings)\n",
    "    # concatenate the embeddings into a single numpy array\n",
    "    embeddings = np.concatenate(embeddings, axis=0)\n",
    "    del words_dataset, words_dataloader\n",
    "    gc.collect()\n",
    "    return embeddings\n",
    "\n",
    "word_embeddings = get_word_embeddings(loaded_words, lm_model)"
   ]
  },
  {
   "cell_type": "code",
   "execution_count": null,
   "metadata": {
    "executionInfo": {
     "elapsed": 9,
     "status": "aborted",
     "timestamp": 1724406685891,
     "user": {
      "displayName": "Aishik Rakshit",
      "userId": "15122983906308089605"
     },
     "user_tz": -330
    },
    "id": "9JD_kgyhC0lB"
   },
   "outputs": [],
   "source": [
    "word_embeddings_dict = {word: embedding for word, embedding in zip(loaded_words, word_embeddings)}\n",
    "with open(f\"word-embeddings/{CFG.model_name.replace('/','_')}_word_embeddings_reddit-l2.pkl\", 'wb') as f:\n",
    "    dump(word_embeddings_dict, f)"
   ]
  }
 ],
 "metadata": {
  "accelerator": "GPU",
  "colab": {
   "gpuType": "L4",
   "machine_shape": "hm",
   "provenance": []
  },
  "kernelspec": {
   "display_name": "Python 3",
   "name": "python3"
  },
  "language_info": {
   "codemirror_mode": {
    "name": "ipython",
    "version": 3
   },
   "file_extension": ".py",
   "mimetype": "text/x-python",
   "name": "python",
   "nbconvert_exporter": "python",
   "pygments_lexer": "ipython3",
   "version": "3.10.14"
  },
  "widgets": {
   "application/vnd.jupyter.widget-state+json": {
    "1c89a1e7e2d04002a075f28fae6540ba": {
     "model_module": "@jupyter-widgets/base",
     "model_module_version": "1.2.0",
     "model_name": "LayoutModel",
     "state": {
      "_model_module": "@jupyter-widgets/base",
      "_model_module_version": "1.2.0",
      "_model_name": "LayoutModel",
      "_view_count": null,
      "_view_module": "@jupyter-widgets/base",
      "_view_module_version": "1.2.0",
      "_view_name": "LayoutView",
      "align_content": null,
      "align_items": null,
      "align_self": null,
      "border": null,
      "bottom": null,
      "display": null,
      "flex": null,
      "flex_flow": null,
      "grid_area": null,
      "grid_auto_columns": null,
      "grid_auto_flow": null,
      "grid_auto_rows": null,
      "grid_column": null,
      "grid_gap": null,
      "grid_row": null,
      "grid_template_areas": null,
      "grid_template_columns": null,
      "grid_template_rows": null,
      "height": null,
      "justify_content": null,
      "justify_items": null,
      "left": null,
      "margin": null,
      "max_height": null,
      "max_width": null,
      "min_height": null,
      "min_width": null,
      "object_fit": null,
      "object_position": null,
      "order": null,
      "overflow": null,
      "overflow_x": null,
      "overflow_y": null,
      "padding": null,
      "right": null,
      "top": null,
      "visibility": null,
      "width": null
     }
    },
    "3061bbe7443c4e96bcc26f6b80cc279c": {
     "model_module": "@jupyter-widgets/controls",
     "model_module_version": "1.5.0",
     "model_name": "DescriptionStyleModel",
     "state": {
      "_model_module": "@jupyter-widgets/controls",
      "_model_module_version": "1.5.0",
      "_model_name": "DescriptionStyleModel",
      "_view_count": null,
      "_view_module": "@jupyter-widgets/base",
      "_view_module_version": "1.2.0",
      "_view_name": "StyleView",
      "description_width": ""
     }
    },
    "5aba7646ca1b4dfe8366d4c840df4401": {
     "model_module": "@jupyter-widgets/controls",
     "model_module_version": "1.5.0",
     "model_name": "HTMLModel",
     "state": {
      "_dom_classes": [],
      "_model_module": "@jupyter-widgets/controls",
      "_model_module_version": "1.5.0",
      "_model_name": "HTMLModel",
      "_view_count": null,
      "_view_module": "@jupyter-widgets/controls",
      "_view_module_version": "1.5.0",
      "_view_name": "HTMLView",
      "description": "",
      "description_tooltip": null,
      "layout": "IPY_MODEL_5f7b0842d1b24ebb9c65596bae577e54",
      "placeholder": "​",
      "style": "IPY_MODEL_3061bbe7443c4e96bcc26f6b80cc279c",
      "value": "config.json: 100%"
     }
    },
    "5b0f46d794064b71b23bcebfdeb7d7db": {
     "model_module": "@jupyter-widgets/controls",
     "model_module_version": "1.5.0",
     "model_name": "HTMLModel",
     "state": {
      "_dom_classes": [],
      "_model_module": "@jupyter-widgets/controls",
      "_model_module_version": "1.5.0",
      "_model_name": "HTMLModel",
      "_view_count": null,
      "_view_module": "@jupyter-widgets/controls",
      "_view_module_version": "1.5.0",
      "_view_name": "HTMLView",
      "description": "",
      "description_tooltip": null,
      "layout": "IPY_MODEL_1c89a1e7e2d04002a075f28fae6540ba",
      "placeholder": "​",
      "style": "IPY_MODEL_b7ab87f2f2a24ce4a1f14d83a34ffb4f",
      "value": " 993/993 [00:00&lt;00:00, 82.0kB/s]"
     }
    },
    "5f7b0842d1b24ebb9c65596bae577e54": {
     "model_module": "@jupyter-widgets/base",
     "model_module_version": "1.2.0",
     "model_name": "LayoutModel",
     "state": {
      "_model_module": "@jupyter-widgets/base",
      "_model_module_version": "1.2.0",
      "_model_name": "LayoutModel",
      "_view_count": null,
      "_view_module": "@jupyter-widgets/base",
      "_view_module_version": "1.2.0",
      "_view_name": "LayoutView",
      "align_content": null,
      "align_items": null,
      "align_self": null,
      "border": null,
      "bottom": null,
      "display": null,
      "flex": null,
      "flex_flow": null,
      "grid_area": null,
      "grid_auto_columns": null,
      "grid_auto_flow": null,
      "grid_auto_rows": null,
      "grid_column": null,
      "grid_gap": null,
      "grid_row": null,
      "grid_template_areas": null,
      "grid_template_columns": null,
      "grid_template_rows": null,
      "height": null,
      "justify_content": null,
      "justify_items": null,
      "left": null,
      "margin": null,
      "max_height": null,
      "max_width": null,
      "min_height": null,
      "min_width": null,
      "object_fit": null,
      "object_position": null,
      "order": null,
      "overflow": null,
      "overflow_x": null,
      "overflow_y": null,
      "padding": null,
      "right": null,
      "top": null,
      "visibility": null,
      "width": null
     }
    },
    "7eee89c809a64bbb9b2dda2e158fc0b8": {
     "model_module": "@jupyter-widgets/controls",
     "model_module_version": "1.5.0",
     "model_name": "FloatProgressModel",
     "state": {
      "_dom_classes": [],
      "_model_module": "@jupyter-widgets/controls",
      "_model_module_version": "1.5.0",
      "_model_name": "FloatProgressModel",
      "_view_count": null,
      "_view_module": "@jupyter-widgets/controls",
      "_view_module_version": "1.5.0",
      "_view_name": "ProgressView",
      "bar_style": "success",
      "description": "",
      "description_tooltip": null,
      "layout": "IPY_MODEL_f3cb6ed2c6f548e58aa6fccc09897d3a",
      "max": 993,
      "min": 0,
      "orientation": "horizontal",
      "style": "IPY_MODEL_ff0014bdae0a4593a1b3d8ba8c684ca0",
      "value": 993
     }
    },
    "a38cb94b16814e45a397bffbbb8e496d": {
     "model_module": "@jupyter-widgets/controls",
     "model_module_version": "1.5.0",
     "model_name": "HBoxModel",
     "state": {
      "_dom_classes": [],
      "_model_module": "@jupyter-widgets/controls",
      "_model_module_version": "1.5.0",
      "_model_name": "HBoxModel",
      "_view_count": null,
      "_view_module": "@jupyter-widgets/controls",
      "_view_module_version": "1.5.0",
      "_view_name": "HBoxView",
      "box_style": "",
      "children": [
       "IPY_MODEL_5aba7646ca1b4dfe8366d4c840df4401",
       "IPY_MODEL_7eee89c809a64bbb9b2dda2e158fc0b8",
       "IPY_MODEL_5b0f46d794064b71b23bcebfdeb7d7db"
      ],
      "layout": "IPY_MODEL_f8e2905a24ed4561a2367c779c76878e"
     }
    },
    "b7ab87f2f2a24ce4a1f14d83a34ffb4f": {
     "model_module": "@jupyter-widgets/controls",
     "model_module_version": "1.5.0",
     "model_name": "DescriptionStyleModel",
     "state": {
      "_model_module": "@jupyter-widgets/controls",
      "_model_module_version": "1.5.0",
      "_model_name": "DescriptionStyleModel",
      "_view_count": null,
      "_view_module": "@jupyter-widgets/base",
      "_view_module_version": "1.2.0",
      "_view_name": "StyleView",
      "description_width": ""
     }
    },
    "f3cb6ed2c6f548e58aa6fccc09897d3a": {
     "model_module": "@jupyter-widgets/base",
     "model_module_version": "1.2.0",
     "model_name": "LayoutModel",
     "state": {
      "_model_module": "@jupyter-widgets/base",
      "_model_module_version": "1.2.0",
      "_model_name": "LayoutModel",
      "_view_count": null,
      "_view_module": "@jupyter-widgets/base",
      "_view_module_version": "1.2.0",
      "_view_name": "LayoutView",
      "align_content": null,
      "align_items": null,
      "align_self": null,
      "border": null,
      "bottom": null,
      "display": null,
      "flex": null,
      "flex_flow": null,
      "grid_area": null,
      "grid_auto_columns": null,
      "grid_auto_flow": null,
      "grid_auto_rows": null,
      "grid_column": null,
      "grid_gap": null,
      "grid_row": null,
      "grid_template_areas": null,
      "grid_template_columns": null,
      "grid_template_rows": null,
      "height": null,
      "justify_content": null,
      "justify_items": null,
      "left": null,
      "margin": null,
      "max_height": null,
      "max_width": null,
      "min_height": null,
      "min_width": null,
      "object_fit": null,
      "object_position": null,
      "order": null,
      "overflow": null,
      "overflow_x": null,
      "overflow_y": null,
      "padding": null,
      "right": null,
      "top": null,
      "visibility": null,
      "width": null
     }
    },
    "f8e2905a24ed4561a2367c779c76878e": {
     "model_module": "@jupyter-widgets/base",
     "model_module_version": "1.2.0",
     "model_name": "LayoutModel",
     "state": {
      "_model_module": "@jupyter-widgets/base",
      "_model_module_version": "1.2.0",
      "_model_name": "LayoutModel",
      "_view_count": null,
      "_view_module": "@jupyter-widgets/base",
      "_view_module_version": "1.2.0",
      "_view_name": "LayoutView",
      "align_content": null,
      "align_items": null,
      "align_self": null,
      "border": null,
      "bottom": null,
      "display": null,
      "flex": null,
      "flex_flow": null,
      "grid_area": null,
      "grid_auto_columns": null,
      "grid_auto_flow": null,
      "grid_auto_rows": null,
      "grid_column": null,
      "grid_gap": null,
      "grid_row": null,
      "grid_template_areas": null,
      "grid_template_columns": null,
      "grid_template_rows": null,
      "height": null,
      "justify_content": null,
      "justify_items": null,
      "left": null,
      "margin": null,
      "max_height": null,
      "max_width": null,
      "min_height": null,
      "min_width": null,
      "object_fit": null,
      "object_position": null,
      "order": null,
      "overflow": null,
      "overflow_x": null,
      "overflow_y": null,
      "padding": null,
      "right": null,
      "top": null,
      "visibility": null,
      "width": null
     }
    },
    "ff0014bdae0a4593a1b3d8ba8c684ca0": {
     "model_module": "@jupyter-widgets/controls",
     "model_module_version": "1.5.0",
     "model_name": "ProgressStyleModel",
     "state": {
      "_model_module": "@jupyter-widgets/controls",
      "_model_module_version": "1.5.0",
      "_model_name": "ProgressStyleModel",
      "_view_count": null,
      "_view_module": "@jupyter-widgets/base",
      "_view_module_version": "1.2.0",
      "_view_name": "StyleView",
      "bar_color": null,
      "description_width": ""
     }
    }
   }
  }
 },
 "nbformat": 4,
 "nbformat_minor": 0
}
