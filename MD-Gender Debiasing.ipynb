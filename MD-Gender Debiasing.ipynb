{
 "cells": [
  {
   "cell_type": "code",
   "execution_count": 1,
   "metadata": {},
   "outputs": [
    {
     "name": "stderr",
     "output_type": "stream",
     "text": [
      "/home/aishik/anaconda3/envs/R106/lib/python3.10/site-packages/tqdm/auto.py:21: TqdmWarning: IProgress not found. Please update jupyter and ipywidgets. See https://ipywidgets.readthedocs.io/en/stable/user_install.html\n",
      "  from .autonotebook import tqdm as notebook_tqdm\n"
     ]
    }
   ],
   "source": [
    "from datasets import load_dataset"
   ]
  },
  {
   "cell_type": "code",
   "execution_count": 2,
   "metadata": {},
   "outputs": [
    {
     "name": "stderr",
     "output_type": "stream",
     "text": [
      "/home/aishik/anaconda3/envs/R106/lib/python3.10/site-packages/datasets/load.py:1429: FutureWarning: The repository for md_gender_bias contains custom code which must be executed to correctly load the dataset. You can inspect the repository content at https://hf.co/datasets/md_gender_bias\n",
      "You can avoid this message in future by passing the argument `trust_remote_code=True`.\n",
      "Passing `trust_remote_code=True` will be mandatory to load this dataset from the next major release of `datasets`.\n",
      "  warnings.warn(\n",
      "Downloading builder script: 100%|██████████| 17.9k/17.9k [00:00<00:00, 11.4MB/s]\n",
      "Downloading readme: 100%|██████████| 33.4k/33.4k [00:00<00:00, 18.4MB/s]\n",
      "Downloading data: 100%|██████████| 233M/233M [00:15<00:00, 15.2MB/s] \n",
      "Generating train split: 100%|██████████| 2345/2345 [00:00<00:00, 12470.15 examples/s]\n"
     ]
    },
    {
     "name": "stdout",
     "output_type": "stream",
     "text": [
      "{'text': 'He designed monumental Lovissa War Cemetery in 1920.', 'original': ' She designed monumental Loviisa war cemetery in 1920', 'labels': [1], 'class_type': 0, 'turker_gender': 4, 'episode_done': True, 'confidence': 'certain'}\n"
     ]
    }
   ],
   "source": [
    "dataset = load_dataset('md_gender_bias')\n",
    "\n",
    "# You can access the dataset as follows:\n",
    "print(dataset['train'][0])  # Accessing the first instance in the training set"
   ]
  },
  {
   "cell_type": "code",
   "execution_count": null,
   "metadata": {},
   "outputs": [],
   "source": []
  }
 ],
 "metadata": {
  "kernelspec": {
   "display_name": "R106",
   "language": "python",
   "name": "python3"
  },
  "language_info": {
   "codemirror_mode": {
    "name": "ipython",
    "version": 3
   },
   "file_extension": ".py",
   "mimetype": "text/x-python",
   "name": "python",
   "nbconvert_exporter": "python",
   "pygments_lexer": "ipython3",
   "version": "3.10.0"
  }
 },
 "nbformat": 4,
 "nbformat_minor": 2
}
